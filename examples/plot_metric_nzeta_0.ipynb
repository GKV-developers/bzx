{
 "cells": [
  {
   "cell_type": "code",
   "execution_count": null,
   "id": "bc6991a6-c3c9-44b9-92d0-5e1ce8c76800",
   "metadata": {},
   "outputs": [],
   "source": [
    "import numpy as np\n",
    "import scipy as sp\n",
    "import matplotlib.pyplot as plt\n",
    "from bzx import read_GKV_metric_file\n",
    "\n",
    "fname_metric = \"./metric_boozer.bin.dat\"\n",
    "nfp_b, nss, ntht, nzeta, mnboz_b, mboz_b, nboz_b, Rax, Bax, aa, volume_p, asym_flg, alpha_fix, \\\n",
    "    rho, theta, zeta, qq, shat, epst, bb, rootg_boz, rootg_boz0, ggup_boz, \\\n",
    "    dbb_drho, dbb_dtht, dbb_dzeta, \\\n",
    "    rr, zz, ph, bbozc, ixn_b, ixm_b, \\\n",
    "    bbozs = read_GKV_metric_file(fname_metric)\n",
    "\n",
    "print(nfp_b,nss,ntht,nzeta,bb.shape,theta.max(),zeta.max())\n",
    "print(\"磁場強度 (B0):\", Bax)\n",
    "print(\"小半径 (Aminor_p):\", aa)\n",
    "print(\"大半径 (Rmajor_p):\", Rax)\n",
    "print(\"プラズマ体積 (volume_p):\", volume_p)"
   ]
  },
  {
   "cell_type": "code",
   "execution_count": null,
   "id": "21e90192-fc20-408d-804a-d67df8b36d9d",
   "metadata": {},
   "outputs": [],
   "source": [
    "assert nzeta == 0, \"ERROR: plot_metric_nzeta_0.py assumes nzeta==0.\""
   ]
  },
  {
   "cell_type": "markdown",
   "id": "e5f4e824-e4c4-4bb4-a81f-aa45e3626b54",
   "metadata": {},
   "source": [
    "### (i) Radial profile"
   ]
  },
  {
   "cell_type": "code",
   "execution_count": null,
   "id": "21aa8675-15b4-442a-bc68-cc8073a27f58",
   "metadata": {},
   "outputs": [],
   "source": [
    "fig = plt.figure()\n",
    "ax = fig.add_subplot()\n",
    "ax.plot(rho,qq,\".-\",label=r\"Safety factor $q$\")\n",
    "ax.plot(rho,shat,\"x-\",label=r\"Magnetic shear $\\hat{s}$\")\n",
    "ax.plot(rho,epst,\"*-\",label=r\"Inverse aspect ratio $\\epsilon_r$\")\n",
    "ax.set_xlabel(r\"Normalized minor radius $\\rho$\")\n",
    "ax.set_ylabel(r\"$\\rho$, $\\hat{s}$, $\\epsilon_r$\")\n",
    "ax.legend()\n",
    "plt.show()"
   ]
  },
  {
   "cell_type": "markdown",
   "id": "0f63eccf-d620-4102-bfa3-406195de29c2",
   "metadata": {},
   "source": [
    "### (ii) Metrics along a field line"
   ]
  },
  {
   "cell_type": "code",
   "execution_count": null,
   "id": "73920e5d-214c-4f55-895c-d532a812e0ab",
   "metadata": {},
   "outputs": [],
   "source": [
    "js = nss // 2\n",
    "\n",
    "data_dicts = {r\"Geometrical toroidal angle $\\varphi$\" : ph[js,:,0],\n",
    "              r\"Magnetic field strength $B$\"    : bb[js,:,0],\n",
    "              r\"$\\partial B/\\partial \\rho$\"     : dbb_drho[js,:,0],\n",
    "              r\"$\\partial B/\\partial \\theta_B$\" : dbb_dtht[js,:,0],\n",
    "              r\"$\\partial B/\\partial \\zeta_B$\"  : dbb_dzeta[js,:,0],\n",
    "              r\"Boozer coordinate Jacobian $\\sqrt{g}_B$\" : rootg_boz[js,:,0],\n",
    "              r\"Metric $g^{\\rho,\\rho}$\"         : ggup_boz[js,:,0,0,0],\n",
    "              r\"Metric $g^{\\rho,\\theta}$\"       : ggup_boz[js,:,0,0,1],\n",
    "              # r\"Metric $g^{\\theta,\\rho}$\"       : ggup_boz[js,:,0,1,0],\n",
    "              r\"Metric $g^{\\rho,\\zeta}$\"        : ggup_boz[js,:,0,0,2],\n",
    "              # r\"Metric $g^{\\zeta,\\rho}$\"        : ggup_boz[js,:,0,2,0],\n",
    "              r\"Metric $g^{\\theta,\\theta}$\"     : ggup_boz[js,:,0,1,1],\n",
    "              r\"Metric $g^{\\theta,\\zeta}$\"      : ggup_boz[js,:,0,1,2],\n",
    "              # r\"Metric $g^{\\zeta,\\theta}$\"      : ggup_boz[js,:,0,2,1],\n",
    "              r\"Metric $g^{\\zeta,\\zeta}$\"       : ggup_boz[js,:,0,2,2],\n",
    "             }\n",
    "\n",
    "fig = plt.figure(figsize=(12,12))\n",
    "fig.suptitle(r\"$\\rho$={:}\".format(rho[js]))\n",
    "ncol = 3\n",
    "nrow = np.ceil(len(data_dicts)/ncol).astype(int)\n",
    "for index, (key, value) in enumerate(data_dicts.items()):\n",
    "    ax = fig.add_subplot(nrow,ncol,index+1)\n",
    "    ax.plot(theta,value,\".-\")\n",
    "    ax.set_xlabel(r\"Boozer poloidal angle $\\theta_B$\")\n",
    "    ax.set_ylabel(key)\n",
    "    if value.min() < 0.0 and 0.0 < value.max():\n",
    "        ax.axhline(0, lw=0.5, c=\"k\")\n",
    "fig.tight_layout()\n",
    "plt.show()\n",
    "\n",
    "# zeta_field_aligned = qq[js]*theta + alpha_fix\n",
    "# fig = plt.figure()\n",
    "# ax = fig.add_subplot()\n",
    "# ax.plot(theta,zeta_field_aligned,\"+-\")\n",
    "# ax.set_xlabel(r\"Boozer poloidal angle $\\theta_B$\")\n",
    "# ax.set_ylabel(r\"Field-aligned Boozer toroidal angle $\\zeta_B = qq(\\rho)*\\theta_B + \\alpha_\\mathrm{fix}$\")\n",
    "# plt.show()"
   ]
  },
  {
   "cell_type": "markdown",
   "id": "dce28315-c8ca-43e8-a876-c42018678ab7",
   "metadata": {},
   "source": [
    "### (iii) 3D plot of a field-aligned coordinates"
   ]
  },
  {
   "cell_type": "code",
   "execution_count": null,
   "id": "40ac6c6d-74e0-4e63-ad48-e22d635ffccf",
   "metadata": {},
   "outputs": [],
   "source": [
    "X = rr*np.cos(ph)\n",
    "Y = rr*np.sin(ph)\n",
    "Z = zz\n",
    "\n",
    "js = nss // 2\n",
    "\n",
    "# flag_plot = \"wireframe\"\n",
    "# flag_plot = \"line\"\n",
    "flag_plot = \"band\"\n",
    "\n",
    "fig = plt.figure(figsize=(22, 22))\n",
    "ax = fig.add_subplot(111, projection='3d')\n",
    "if flag_plot == \"wireframe\":\n",
    "    ax.plot_wireframe(X[:,:,0], Y[:,:,0], Z[:,:,0], rstride=4, cstride=4, edgecolor='k', lw=0.5)\n",
    "elif flag_plot == \"line\":\n",
    "    ax.plot(X[js,:,0], Y[js,:,0], Z[js,:,0], \"o-\", c=\"r\", lw=2)\n",
    "elif flag_plot == \"band\":\n",
    "    facecolors_value = bb[js-1:js+1,:,0]\n",
    "    facecolors_label = \"B [T]\"\n",
    "    norm = plt.Normalize(facecolors_value.min(), facecolors_value.max())\n",
    "    colors = plt.cm.viridis(norm(facecolors_value))\n",
    "    ax.plot_surface(X[js-1:js+1,:,0], Y[js-1:js+1,:,0], Z[js-1:js+1,:,0], facecolors=colors, rstride=1, cstride=1, edgecolor='k', lw=0.1)\n",
    "    mappable = plt.cm.ScalarMappable(cmap=\"viridis\", norm=norm)\n",
    "    mappable.set_array(facecolors_value)\n",
    "    fig.colorbar(mappable, ax=ax, shrink=0.6, label=facecolors_label)\n",
    "\n",
    "# ax.view_init(elev=90, azim=0)\n",
    "ax.set_xlabel('X [m]')\n",
    "ax.set_ylabel('Y [m]')\n",
    "ax.set_zlabel('Z [m]')\n",
    "ax.set_title('3D Magnetic Surface Reconstruction')\n",
    "ax.set_zlim(-4,4)\n",
    "# ax.set_xlim(-12,12)\n",
    "# ax.set_ylim(-12,12)\n",
    "plt.show()"
   ]
  },
  {
   "cell_type": "code",
   "execution_count": null,
   "id": "bb504fc4-cdc0-4196-9e28-d8654d45776b",
   "metadata": {},
   "outputs": [],
   "source": []
  },
  {
   "cell_type": "code",
   "execution_count": null,
   "id": "ab0341ac-26b5-4fbb-a922-67cdcc026165",
   "metadata": {},
   "outputs": [],
   "source": []
  }
 ],
 "metadata": {
  "kernelspec": {
   "display_name": "Python 3 (ipykernel)",
   "language": "python",
   "name": "python3"
  },
  "language_info": {
   "codemirror_mode": {
    "name": "ipython",
    "version": 3
   },
   "file_extension": ".py",
   "mimetype": "text/x-python",
   "name": "python",
   "nbconvert_exporter": "python",
   "pygments_lexer": "ipython3",
   "version": "3.13.2"
  }
 },
 "nbformat": 4,
 "nbformat_minor": 5
}
