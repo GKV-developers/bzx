{
 "cells": [
  {
   "cell_type": "code",
   "execution_count": null,
   "id": "f76fca8a-d2f9-4cce-81c9-8e9fbbbb0c84",
   "metadata": {},
   "outputs": [],
   "source": [
    "import numpy as np\n",
    "import scipy as sp\n",
    "import matplotlib.pyplot as plt\n",
    "from plot_metric_utils import read_metric\n",
    "\n",
    "fname_metric = \"./metric_boozer_nzeta_finite.bin.dat\"\n",
    "nfp_b, nss, ntht, nzeta, mnboz_b, mboz_b, nboz_b, Rax, Bax, aa, volume_p, asym_flg, alpha_fix, \\\n",
    "    rho, theta, zeta, qq, shat, epst, bb, rootg_boz, rootg_boz0, ggup_boz, \\\n",
    "    dbb_drho, dbb_dtht, dbb_dzeta, \\\n",
    "    rr, zz, ph, bbozc, ixn_b, ixm_b, \\\n",
    "    bbozs = read_metric(fname_metric)\n",
    "\n",
    "print(nfp_b,nss,ntht,nzeta,bb.shape,theta.max(),zeta.max())\n",
    "print(\"磁場強度 (B0):\", Bax)\n",
    "print(\"小半径 (Aminor_p):\", aa)\n",
    "print(\"大半径 (Rmajor_p):\", Rax)\n",
    "print(\"プラズマ体積 (volume_p):\", volume_p)"
   ]
  },
  {
   "cell_type": "code",
   "execution_count": null,
   "id": "9e5924ef-4911-4b97-98c8-004a4825fcc4",
   "metadata": {},
   "outputs": [],
   "source": [
    "assert nzeta > 0, \"ERROR: plot_metric_nzeta_finite.py assumes nzeta>0.\""
   ]
  },
  {
   "cell_type": "markdown",
   "id": "326a0fc7-79fb-4358-bf78-6cfbcad57fa5",
   "metadata": {},
   "source": [
    "### (i) Radial profile"
   ]
  },
  {
   "cell_type": "code",
   "execution_count": null,
   "id": "97b62798-f89a-479b-90d4-79a5a44a74b1",
   "metadata": {},
   "outputs": [],
   "source": [
    "fig = plt.figure()\n",
    "ax = fig.add_subplot()\n",
    "ax.plot(rho,qq,\".-\",label=r\"Safety factor $q$\")\n",
    "ax.plot(rho,shat,\"x-\",label=r\"Magnetic shear $\\hat{s}$\")\n",
    "ax.plot(rho,epst,\"*-\",label=r\"Inverse aspect ratio $\\epsilon_r$\")\n",
    "ax.set_xlabel(r\"Normalized minor radius $\\rho$\")\n",
    "ax.set_ylabel(r\"$\\rho$, $\\hat{s}$, $\\epsilon_r$\")\n",
    "ax.legend()\n",
    "plt.show()"
   ]
  },
  {
   "cell_type": "markdown",
   "id": "10767cff-6400-48c5-83e9-2b236e5a60a9",
   "metadata": {},
   "source": [
    "### (ii) Magnetic field strength on magnetic surface"
   ]
  },
  {
   "cell_type": "code",
   "execution_count": null,
   "id": "db1ed036-b274-40b4-b917-1bd028c6ec49",
   "metadata": {},
   "outputs": [],
   "source": [
    "js = nss // 2\n",
    "\n",
    "fig = plt.figure()\n",
    "ax = fig.add_subplot()\n",
    "# quad=ax.contourf(zeta_b, theta_b, Bstz[js,:,:], 25)\n",
    "quad=ax.contourf(zeta, theta, bb[js,:,:], 25)\n",
    "ax.set_xlabel(r\"Boozer toroidal angle $\\zeta_B$\")\n",
    "ax.set_ylabel(r\"Boozer poloidal angle $\\theta_B$\")\n",
    "ax.set_title(r\"|B| [T] on surface $\\rho$={:.4f}\".format(rho[js]))\n",
    "fig.colorbar(quad)\n",
    "plt.show()"
   ]
  },
  {
   "cell_type": "markdown",
   "id": "3c38f584-64ae-4574-bab7-37dd02d97eab",
   "metadata": {},
   "source": [
    "### (iii) Shape of magnetic flux surface"
   ]
  },
  {
   "cell_type": "code",
   "execution_count": null,
   "id": "8b047dd3-5f06-440e-82e6-94936860dfd7",
   "metadata": {},
   "outputs": [],
   "source": [
    "X = rr*np.cos(ph)\n",
    "Y = rr*np.sin(ph)\n",
    "Z = zz\n",
    "\n",
    "\n",
    "js = nss-1\n",
    "\n",
    "facecolors_value = bb[js,:,:]\n",
    "facecolors_label = \"B [T]\"\n",
    "\n",
    "fig = plt.figure(figsize=(12, 12))\n",
    "ax = fig.add_subplot(111, projection='3d')\n",
    "norm = plt.Normalize(facecolors_value.min(), facecolors_value.max())\n",
    "colors = plt.cm.viridis(norm(facecolors_value))\n",
    "ax.plot_surface(X[js,:,:], Y[js,:,:], Z[js,:,:], facecolors=colors, rstride=1, cstride=1, edgecolor='k', lw=0.1)\n",
    "mappable = plt.cm.ScalarMappable(cmap=\"viridis\", norm=norm)\n",
    "mappable.set_array(facecolors_value)\n",
    "fig.colorbar(mappable, ax=ax, shrink=0.6, label=facecolors_label)\n",
    "# ax.plot_wireframe(X_at_js, Y_at_js, Z_at_js, rstride=6, cstride=6, edgecolor='k', lw=0.5)\n",
    "# ax.view_init(elev=90, azim=0)\n",
    "ax.set_xlabel('X [m]')\n",
    "ax.set_ylabel('Y [m]')\n",
    "ax.set_zlabel('Z [m]')\n",
    "ax.set_title('3D Magnetic Surface Reconstruction')\n",
    "ax.set_zlim(-4,4)\n",
    "# ax.set_xlim(-12,12)\n",
    "# ax.set_ylim(-12,12)\n",
    "# print(nfp_b)\n",
    "plt.show()"
   ]
  },
  {
   "cell_type": "markdown",
   "id": "48aff9bd-42b3-4ce2-8d0b-3b15b2d8a009",
   "metadata": {},
   "source": [
    "### (iv) Slice at given Boozer angles"
   ]
  },
  {
   "cell_type": "code",
   "execution_count": null,
   "id": "fbe1c62b-3baa-4157-a3ad-7137b4a5a5c1",
   "metadata": {},
   "outputs": [],
   "source": [
    "fig = plt.figure(figsize=(12, 12))\n",
    "ax = fig.add_subplot(111, projection='3d')\n",
    "for jzeta in range(0,len(zeta)//nfp_b,(len(zeta)//nfp_b)//4):\n",
    "    facecolors_value = bb[:,:,jzeta]\n",
    "    facecolors_label = \"B [T]\"\n",
    "    norm = plt.Normalize(facecolors_value.min(), facecolors_value.max())\n",
    "    colors = plt.cm.viridis(norm(facecolors_value))\n",
    "    ax.plot_surface(X[:,:,jzeta], Y[:,:,jzeta], Z[:,:,jzeta], facecolors=colors, rstride=20, cstride=1, edgecolor='k', lw=0.1)\n",
    "    # wzeta = zeta_b[jzeta]\n",
    "    # X_at_zeta, Y_at_zeta, Z_at_zeta = jmn2cartesian_grid_at_zeta(rmnc_b, zmns_b, pmns_b, rmns_b, zmnc_b, pmnc_b, ixm_b, ixn_b, nfp_b, ns_b, jlist, Rmajor_p, wzeta, theta_size=100)  \n",
    "    # ax.plot_surface(X_at_zeta, Y_at_zeta, Z_at_zeta, facecolors=colors, rstride=20, cstride=1, edgecolor='k', lw=0.1)\n",
    "mappable = plt.cm.ScalarMappable(cmap=\"viridis\", norm=norm)\n",
    "mappable.set_array(facecolors_value)\n",
    "fig.colorbar(mappable, ax=ax, shrink=0.6, label=facecolors_label)\n",
    "js = nss - 1\n",
    "ax.plot_wireframe(X[js,:,:], Y[js,:,:], Z[js,:,:], rstride=6, cstride=6, edgecolor='k', lw=0.5)\n",
    "# ax.view_init(elev=90, azim=0)\n",
    "ax.set_xlabel('X [m]')\n",
    "ax.set_ylabel('Y [m]')\n",
    "ax.set_zlabel('Z [m]')\n",
    "ax.set_title('3D Magnetic Surface Reconstruction')\n",
    "ax.set_zlim(-4,4)\n",
    "# ax.set_xlim(-12,12)\n",
    "# ax.set_ylim(-12,12)\n",
    "# print(nfp_b)\n",
    "plt.show()"
   ]
  },
  {
   "cell_type": "code",
   "execution_count": null,
   "id": "c0a3cd3b-477c-41f5-81b9-8027a6b8769f",
   "metadata": {},
   "outputs": [],
   "source": [
    "theta_skip = 4\n",
    "s_skip = 1\n",
    "for jzeta in range(0,len(zeta)//nfp_b,(len(zeta)//nfp_b)//4):\n",
    "    fig = plt.figure()\n",
    "    ax = fig.add_subplot()\n",
    "    ax.plot(rr[:,::theta_skip,jzeta],zz[:,::theta_skip,jzeta],c=\"k\",lw=0.5)\n",
    "    ax.plot(rr[::s_skip,:,jzeta].T,zz[::s_skip,:,jzeta].T,c=\"k\",lw=0.5)\n",
    "    quad = ax.pcolormesh(rr[:,:,jzeta],zz[:,:,jzeta],bb[:,:,jzeta],vmin=bb.min(),vmax=bb.max())\n",
    "    fig.colorbar(quad)\n",
    "    ax.set_aspect(\"equal\")\n",
    "    ax.set_xlabel(\"R [m]\")\n",
    "    ax.set_ylabel(\"Z [m]\")\n",
    "    ax.set_xlim(rr.min(),rr.max())\n",
    "    ax.set_ylim(zz.min(),zz.max())\n",
    "    # ax.set_title(r\"Poloidal cross section at $\\zeta_B=${:.2f}\".format(zeta_b[izeta]))\n",
    "    ax.set_title(r\"Poloidal projection of the cross section at $\\zeta_B=${:.2f} [degree]\".format(zeta[jzeta]/np.pi*180))\n",
    "    plt.show()"
   ]
  },
  {
   "cell_type": "code",
   "execution_count": null,
   "id": "9fc9cb36-2c24-490b-ade3-d466aa5a2132",
   "metadata": {},
   "outputs": [],
   "source": []
  },
  {
   "cell_type": "code",
   "execution_count": null,
   "id": "c96f6ead-4c13-4842-9849-0558bb4764da",
   "metadata": {},
   "outputs": [],
   "source": []
  }
 ],
 "metadata": {
  "kernelspec": {
   "display_name": "Python 3 (ipykernel)",
   "language": "python",
   "name": "python3"
  },
  "language_info": {
   "codemirror_mode": {
    "name": "ipython",
    "version": 3
   },
   "file_extension": ".py",
   "mimetype": "text/x-python",
   "name": "python",
   "nbconvert_exporter": "python",
   "pygments_lexer": "ipython3",
   "version": "3.13.2"
  }
 },
 "nbformat": 4,
 "nbformat_minor": 5
}
