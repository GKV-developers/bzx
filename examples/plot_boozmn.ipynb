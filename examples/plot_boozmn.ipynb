{
 "cells": [
  {
   "cell_type": "markdown",
   "id": "f967ac22-4c80-47b4-bd76-735e8c7d23a1",
   "metadata": {},
   "source": [
    "### Description\n",
    "Boozer coordinates $(s, \\theta_B, \\zeta_B)$ are a straight-field-line coordinate system,\n",
    "$$\n",
    "\\boldsymbol{B} = \\nabla \\psi(s) \\times \\nabla \\theta_B + \\iota(\\psi) \\nabla \\zeta_B \\times \\nabla \\psi(s),\n",
    "$$\n",
    "and also expressed as\n",
    "$$\n",
    "\\boldsymbol{B} = \\beta(s,\\theta_B,\\zeta_B) \\nabla \\psi + I(s) \\nabla \\theta_B + G(s) \\nabla \\zeta_B.\n",
    "$$\n"
   ]
  },
  {
   "cell_type": "code",
   "execution_count": null,
   "id": "29a9d4e8-e02d-4e09-9998-ae5fae292415",
   "metadata": {},
   "outputs": [],
   "source": [
    "import numpy as np\n",
    "import matplotlib.pyplot as plt\n",
    "from plot_boozmn_utils import read_boozmn_nc, read_wout_nc\n",
    "from plot_boozmn_utils import jmn2stz, jmn2stz_at_js, jmn2stz_at_zeta, jmn2stz_cartesian_grid, jmn2stz_cartesian_grid_at_js, jmn2stz_cartesian_grid_at_zeta\n",
    "from plot_boozmn_utils import jmn2sta, jmn2sta_cartesian_grid\n",
    "\n",
    "boozmn_ncfile = \"boozmn_lhd.nc\"\n",
    "# help(read_boozmn_nc)\n",
    "boozmn_tuple = read_boozmn_nc(boozmn_ncfile, flag_debug=True)\n",
    "nfp_b, ns_b, aspect_b, rmax_b, rmin_b, betaxis_b, \\\n",
    "    iota_b, pres_b, beta_b, phip_b, phi_b, bvco_b, buco_b, \\\n",
    "    mboz_b, nboz_b, mnboz_b, jsize, version, lasym_b, \\\n",
    "    ixn_b, ixm_b, jlist, \\\n",
    "    bmnc_b, rmnc_b, zmns_b, pmns_b, gmnc_b, \\\n",
    "    bmns_b, rmns_b, zmnc_b, pmnc_b, gmns_b = boozmn_tuple\n",
    "\n",
    "wout_ncfile = (\"wout_lhd.nc\")\n",
    "B0_p, Aminor_p, Rmajor_p, volume_p = read_wout_nc(wout_ncfile)\n",
    "\n",
    "print(\"Magnetic field strength at magnetic axis (B0_p):\", B0_p)\n",
    "print(\"Minor radius (Aminor_p):\", Aminor_p)\n",
    "print(\"Major radius (Rmajor_p):\", Rmajor_p)\n",
    "print(\"Plasma volume (volume_p):\", volume_p)"
   ]
  },
  {
   "cell_type": "markdown",
   "id": "2a2dc322-0719-49c4-8425-89eb033733e6",
   "metadata": {},
   "source": [
    "## Fourier mode to real-space quantity\n",
    "### (i) Radial profile"
   ]
  },
  {
   "cell_type": "code",
   "execution_count": null,
   "id": "428dc380-d499-43fc-b737-3b4b070296e5",
   "metadata": {},
   "outputs": [],
   "source": [
    "fig = plt.figure()\n",
    "ax = fig.add_subplot()\n",
    "ax.plot(iota_b,\".-\")\n",
    "ax.set_xlabel(r\"Radial grid\")\n",
    "ax.set_ylabel(r\"Rotational transform $\\iota$\")\n",
    "plt.show()"
   ]
  },
  {
   "cell_type": "markdown",
   "id": "890510b4-9de0-4cb4-bc03-590cbf708104",
   "metadata": {},
   "source": [
    "### (ii) Magnetic field strength on magnetic surface"
   ]
  },
  {
   "cell_type": "code",
   "execution_count": null,
   "id": "aa329346-dd05-42f6-847a-9a0dfc4beb80",
   "metadata": {},
   "outputs": [],
   "source": [
    "flag_plot_full_torus = True\n",
    "if flag_plot_full_torus:\n",
    "    nfp_b=1\n",
    "print(nfp_b)\n",
    "\n",
    "theta_size = 100\n",
    "zeta_size = 120\n",
    "s_b, theta_b, zeta_b, Bstz = jmn2stz(bmnc_b, bmns_b, ixm_b, ixn_b, nfp_b, ns_b, jlist, theta_size=theta_size, zeta_size=zeta_size)\n",
    "\n",
    "js = jsize//4\n",
    "\n",
    "fig = plt.figure()\n",
    "ax = fig.add_subplot()\n",
    "# quad=ax.contourf(zeta_b, theta_b, Bstz[js,:,:], 25)\n",
    "s_b_at_js, theta_b, zeta_b, Bstz_at_js = jmn2stz_at_js(bmnc_b, bmns_b, ixm_b, ixn_b, nfp_b, ns_b, jlist, js=js, theta_size=theta_size, zeta_size=zeta_size)\n",
    "quad=ax.contourf(zeta_b, theta_b, Bstz_at_js, 25)\n",
    "ax.set_xlabel(r\"Boozer toroidal angle $\\zeta_B$\")\n",
    "ax.set_ylabel(r\"Boozer poloidal angle $\\theta_B$\")\n",
    "ax.set_title(r\"|B| [T] on surface $s$={:.4f}\".format(s_b[js]))\n",
    "fig.colorbar(quad)\n",
    "plt.show()"
   ]
  },
  {
   "cell_type": "markdown",
   "id": "11bd42d6-8a0a-4f5d-8f69-8a27ae1b5435",
   "metadata": {},
   "source": [
    "### (iii) Shape of magnetic flux surface"
   ]
  },
  {
   "cell_type": "code",
   "execution_count": null,
   "id": "a408d071-8ccf-41d0-8a51-ed8b4f221a7e",
   "metadata": {},
   "outputs": [],
   "source": [
    "# X, Y, Z = jmn2stz_cartesian_grid(rmnc_b, zmns_b, pmns_b, rmns_b, zmnc_b, pmnc_b, ixm_b, ixn_b, nfp_b, ns_b, jlist, Rmajor_p, theta_size=theta_size, zeta_size=zeta_size)\n",
    "\n",
    "js = jsize-1\n",
    "\n",
    "facecolors_value = Bstz[js,:,:]\n",
    "facecolors_label = \"B [T]\"\n",
    "\n",
    "fig = plt.figure(figsize=(12, 12))\n",
    "ax = fig.add_subplot(111, projection='3d')\n",
    "norm = plt.Normalize(facecolors_value.min(), facecolors_value.max())\n",
    "colors = plt.cm.viridis(norm(facecolors_value))\n",
    "# ax.plot_surface(X[js,:,:], Y[js,:,:], Z[js,:,:], facecolors=colors, rstride=1, cstride=1, edgecolor='k', lw=0.1)\n",
    "X_at_js, Y_at_js, Z_at_js = jmn2stz_cartesian_grid_at_js(rmnc_b, zmns_b, pmns_b, rmns_b, zmnc_b, pmnc_b, ixm_b, ixn_b, nfp_b, ns_b, jlist, Rmajor_p, js=js, theta_size=theta_size, zeta_size=zeta_size)\n",
    "ax.plot_surface(X_at_js, Y_at_js, Z_at_js, facecolors=colors, rstride=1, cstride=1, edgecolor='k', lw=0.1)\n",
    "mappable = plt.cm.ScalarMappable(cmap=\"viridis\", norm=norm)\n",
    "mappable.set_array(facecolors_value)\n",
    "fig.colorbar(mappable, ax=ax, shrink=0.6, label=facecolors_label)\n",
    "# ax.plot_wireframe(X[js,:,:], Y[js,:,:], Z[js,:,:], rstride=6, cstride=6, edgecolor='k', lw=0.5)\n",
    "# ax.view_init(elev=90, azim=0)\n",
    "ax.set_xlabel('X [m]')\n",
    "ax.set_ylabel('Y [m]')\n",
    "ax.set_zlabel('Z [m]')\n",
    "ax.set_title('3D Magnetic Surface Reconstruction')\n",
    "ax.set_zlim(-4,4)\n",
    "# ax.set_xlim(-12,12)\n",
    "# ax.set_ylim(-12,12)\n",
    "# print(nfp_b)\n",
    "plt.show()"
   ]
  },
  {
   "cell_type": "markdown",
   "id": "adb7683c-48f6-4fd6-baf0-9069c79e36f1",
   "metadata": {},
   "source": [
    "### (iv) Slice at given Boozer angles"
   ]
  },
  {
   "cell_type": "code",
   "execution_count": null,
   "id": "17b878be-7e8c-43c4-a969-b1243ecdb618",
   "metadata": {},
   "outputs": [],
   "source": [
    "fig = plt.figure(figsize=(12, 12))\n",
    "ax = fig.add_subplot(111, projection='3d')\n",
    "for jzeta in range(0,len(zeta_b),len(zeta_b)//4):\n",
    "    facecolors_value = Bstz[:,:,jzeta]\n",
    "    facecolors_label = \"B [T]\"\n",
    "    norm = plt.Normalize(facecolors_value.min(), facecolors_value.max())\n",
    "    colors = plt.cm.viridis(norm(facecolors_value))\n",
    "    # ax.plot_surface(X[:,:,jzeta], Y[:,:,jzeta], Z[:,:,jzeta], facecolors=colors, rstride=20, cstride=1, edgecolor='k', lw=0.1)\n",
    "    wzeta = zeta_b[jzeta]\n",
    "    X_at_zeta, Y_at_zeta, Z_at_zeta = jmn2stz_cartesian_grid_at_zeta(rmnc_b, zmns_b, pmns_b, rmns_b, zmnc_b, pmnc_b, ixm_b, ixn_b, nfp_b, ns_b, jlist, Rmajor_p, wzeta, theta_size=theta_size)  \n",
    "    ax.plot_surface(X_at_zeta, Y_at_zeta, Z_at_zeta, facecolors=colors, rstride=20, cstride=1, edgecolor='k', lw=0.1)\n",
    "mappable = plt.cm.ScalarMappable(cmap=\"viridis\", norm=norm)\n",
    "mappable.set_array(facecolors_value)\n",
    "fig.colorbar(mappable, ax=ax, shrink=0.6, label=facecolors_label)\n",
    "js = len(jlist) - 1\n",
    "X_at_js, Y_at_js, Z_at_js = jmn2stz_cartesian_grid_at_js(rmnc_b, zmns_b, pmns_b, rmns_b, zmnc_b, pmnc_b, ixm_b, ixn_b, nfp_b, ns_b, jlist, Rmajor_p, js=js, theta_size=theta_size, zeta_size=zeta_size)\n",
    "ax.plot_wireframe(X_at_js, Y_at_js, Z_at_js, rstride=6, cstride=6, edgecolor='k', lw=0.5)\n",
    "# ax.view_init(elev=90, azim=0)\n",
    "ax.set_xlabel('X [m]')\n",
    "ax.set_ylabel('Y [m]')\n",
    "ax.set_zlabel('Z [m]')\n",
    "ax.set_title('3D Magnetic Surface Reconstruction')\n",
    "ax.set_zlim(-4,4)\n",
    "# ax.set_xlim(-12,12)\n",
    "# ax.set_ylim(-12,12)\n",
    "# print(nfp_b)\n",
    "plt.show()"
   ]
  },
  {
   "cell_type": "code",
   "execution_count": null,
   "id": "c1dbf798-be85-4101-acdf-0d18c1f88e5b",
   "metadata": {},
   "outputs": [],
   "source": [
    "R, Z, phi = jmn2stz_cartesian_grid(rmnc_b, zmns_b, pmns_b, rmns_b, zmnc_b, pmnc_b, ixm_b, ixn_b, nfp_b, ns_b, jlist, Rmajor_p, theta_size=100, zeta_size=120, flag_RZphi_output=True)\n",
    "\n",
    "theta_skip = 4\n",
    "s_skip = 8\n",
    "for izeta in range(0,len(zeta_b),len(zeta_b)//4):\n",
    "    fig = plt.figure()\n",
    "    ax = fig.add_subplot()\n",
    "    ax.plot(R[:,::theta_skip,izeta],Z[:,::theta_skip,izeta],c=\"k\",lw=0.5)\n",
    "    ax.plot(R[::s_skip,:,izeta].T,Z[::s_skip,:,izeta].T,c=\"k\",lw=0.5)\n",
    "    quad = ax.pcolormesh(R[:,:,izeta],Z[:,:,izeta],Bstz[:,:,izeta],vmin=Bstz.min(),vmax=Bstz.max())\n",
    "    fig.colorbar(quad)\n",
    "    ax.set_aspect(\"equal\")\n",
    "    ax.set_xlabel(\"R [m]\")\n",
    "    ax.set_ylabel(\"Z [m]\")\n",
    "    ax.set_xlim(R.min(),R.max())\n",
    "    ax.set_ylim(Z.min(),Z.max())\n",
    "    # ax.set_title(r\"Poloidal cross section at $\\zeta_B=${:.2f}\".format(zeta_b[izeta]))\n",
    "    ax.set_title(r\"Poloidal projection of the cross section at $\\zeta_B=${:.2f} [degree]\".format(zeta_b[izeta]/np.pi*180))\n",
    "    plt.show()"
   ]
  },
  {
   "cell_type": "markdown",
   "id": "5e56f3eb-981b-4eb2-b0c9-fe6857b12981",
   "metadata": {},
   "source": [
    "### (iv) Field-aligned plot"
   ]
  },
  {
   "cell_type": "code",
   "execution_count": null,
   "id": "30714b5c-7e98-42d0-a9b2-3c24f9b35442",
   "metadata": {},
   "outputs": [],
   "source": [
    "from time import time as timer\n",
    "theta_size=50\n",
    "alpha_size=30\n",
    "t1 = timer()\n",
    "s_b, theta_b, alpha_b, zeta_b_align, Bsta = jmn2sta(bmnc_b, bmns_b, ixm_b, ixn_b, nfp_b, ns_b, jlist, iota_b, theta_size=theta_size, alpha_size=alpha_size)\n",
    "t2 = timer(); print(t2-t1)\n",
    "\n",
    "t1 = timer()\n",
    "X_field_align, Y_field_align, Z_field_align = jmn2sta_cartesian_grid(rmnc_b, zmns_b, pmns_b, rmns_b, zmnc_b, pmnc_b, ixm_b, ixn_b, nfp_b, ns_b, jlist, iota_b, Rmajor_p, theta_size=theta_size, alpha_size=alpha_size, flag_RZphi_output=False)\n",
    "t2 = timer(); print(t2-t1)"
   ]
  },
  {
   "cell_type": "code",
   "execution_count": null,
   "id": "5f6e3783-d990-4402-aa9f-6a8cfa8d2dae",
   "metadata": {},
   "outputs": [],
   "source": [
    "js=jsize-1\n",
    "\n",
    "facecolors_value = Bsta[js,:,:]\n",
    "facecolors_label = \"B [T]\"\n",
    "\n",
    "fig = plt.figure(figsize=(12, 12))\n",
    "ax = fig.add_subplot(111, projection='3d')\n",
    "norm = plt.Normalize(facecolors_value.min(), facecolors_value.max())\n",
    "colors = plt.cm.viridis(norm(facecolors_value))\n",
    "# ax.plot_surface(X_field_align[js,:,:], Y_field_align[js,:,:], Z_field_align[js,:,:], facecolors=colors, rstride=1, cstride=1, edgecolor='k', lw=0.1)\n",
    "mappable = plt.cm.ScalarMappable(cmap=\"viridis\", norm=norm)\n",
    "mappable.set_array(facecolors_value)\n",
    "fig.colorbar(mappable, ax=ax, shrink=0.6, label=facecolors_label)\n",
    "ax.plot_wireframe(X_field_align[js,:,:], Y_field_align[js,:,:], Z_field_align[js,:,:], rstride=4, cstride=4, edgecolor='k', lw=0.5)\n",
    "ax.plot(X_field_align[js,:,0], Y_field_align[js,:,0], Z_field_align[js,:,0], c=\"r\", lw=2)\n",
    "# ax.view_init(elev=90, azim=0)\n",
    "ax.set_xlabel('X [m]')\n",
    "ax.set_ylabel('Y [m]')\n",
    "ax.set_zlabel('Z [m]')\n",
    "ax.set_title('3D Magnetic Surface Reconstruction')\n",
    "ax.set_zlim(-4,4)\n",
    "# ax.set_xlim(-12,12)\n",
    "# ax.set_ylim(-12,12)\n",
    "# print(nfp_b)\n",
    "plt.show()"
   ]
  },
  {
   "cell_type": "code",
   "execution_count": null,
   "id": "913612ea-8a9f-45cd-8b4b-722a94541ed3",
   "metadata": {},
   "outputs": [],
   "source": []
  },
  {
   "cell_type": "code",
   "execution_count": null,
   "id": "df3d39a7-6692-4d42-bad8-77e95559ff77",
   "metadata": {},
   "outputs": [],
   "source": []
  }
 ],
 "metadata": {
  "kernelspec": {
   "display_name": "Python 3 (ipykernel)",
   "language": "python",
   "name": "python3"
  },
  "language_info": {
   "codemirror_mode": {
    "name": "ipython",
    "version": 3
   },
   "file_extension": ".py",
   "mimetype": "text/x-python",
   "name": "python",
   "nbconvert_exporter": "python",
   "pygments_lexer": "ipython3",
   "version": "3.13.2"
  }
 },
 "nbformat": 4,
 "nbformat_minor": 5
}
