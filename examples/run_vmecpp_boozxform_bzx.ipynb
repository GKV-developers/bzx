{
 "cells": [
  {
   "cell_type": "markdown",
   "id": "8999a524-e452-4dc4-9ccd-a7e4f0218b56",
   "metadata": {},
   "source": [
    "### Run VMEC++ code  \n",
    "VMEC ascii input file (input---)  \n",
    "-> VMEC MHD equilibrium, NetCDF output file (wout---.nc)"
   ]
  },
  {
   "cell_type": "code",
   "execution_count": null,
   "id": "d895f27a-e994-4fda-8e4e-b8ec2959b761",
   "metadata": {},
   "outputs": [],
   "source": [
    "import vmecpp\n",
    "vmecin = vmecpp.VmecInput.from_file(\"test_data/input.vmec_lhd\")\n",
    "vmecout = vmecpp.run(vmecin)\n",
    "vmecout.wout.save(\"wout_lhd.nc\")"
   ]
  },
  {
   "cell_type": "markdown",
   "id": "0df93e8d-95ac-4f65-9b7e-15582e7f3b0e",
   "metadata": {},
   "source": [
    "### Run BOOZ_XFORM code  \n",
    "VMEC MHD equilibrium, NetCDF output file (wout---.nc)  \n",
    "-> Boozer coordinates, NetCDF output file (boozmn---.nc)  "
   ]
  },
  {
   "cell_type": "code",
   "execution_count": null,
   "id": "02e050ee-6230-4b08-aae8-b590976bfbe3",
   "metadata": {},
   "outputs": [],
   "source": [
    "import booz_xform as bx\n",
    "b = bx.Booz_xform()\n",
    "b.read_wout(\"wout_lhd.nc\")\n",
    "b.run()\n",
    "b.write_boozmn(\"boozmn_lhd.nc\")"
   ]
  },
  {
   "cell_type": "markdown",
   "id": "4eec1d1a-a8ad-474e-b8c3-ed21d454196c",
   "metadata": {},
   "source": [
    "### Run BZX code  \n",
    "Boozer coordinates, NetCDF output file (boozmn---.nc)  \n",
    "-> GKV coordinates, Fortran binary output file (metric_boozer.bin.dat)  "
   ]
  },
  {
   "cell_type": "code",
   "execution_count": null,
   "id": "e76f0702-193c-489c-a4a8-ff4aa0f77e87",
   "metadata": {},
   "outputs": [],
   "source": [
    "from bzx import bzx\n",
    "Ntheta_gkv = 1   # N_tht value in GKV\n",
    "nrho = 11        # radial grid number in [0 <= rho <= 1]\n",
    "ntht = 384       # poloidal grid number in [-N_theta*pi < theta < N_theta*pi]\n",
    "nzeta = 0        # nzeta==0 for output GKV field-aligned coordinates\n",
    "alpha_fix = 0.0  # field-line label: alpha = zeta - q*theta NOT USED in 3d case (nzeta > 1)\n",
    "fname_wout=\"wout_lhd.nc\"\n",
    "fname_boozmn=\"boozmn_lhd.nc\"\n",
    "output_file=\"./metric_boozer.bin.dat\"\n",
    "bzx(Ntheta_gkv, nrho, ntht, nzeta, alpha_fix, fname_boozmn=fname_boozmn, fname_wout=fname_wout, output_file=output_file)\n",
    "### When the \"fname_wout\" file is in ASCII format, \"wout_txt\" should be appropriately specified as written in \"fname_wout\", e.g.,\n",
    "### bzx(Ntheta_gkv, nrho, ntht, nzeta, alpha_fix, fname_boozmn=fname_boozmn, fname_wout=fname_wout, output_file=output_file, wout_txt=\"lhd\")\n",
    "\n",
    "nzeta = 128      # Only for check. toroidal grid number in [0 <= zeta <= 2*pi]\n",
    "output_file=\"./metric_boozer_nzeta_finite.bin.dat\"\n",
    "bzx(Ntheta_gkv, nrho, ntht, nzeta, alpha_fix, fname_boozmn=fname_boozmn, fname_wout=fname_wout, output_file=output_file)"
   ]
  },
  {
   "cell_type": "code",
   "execution_count": null,
   "id": "ae5de4f0-7529-4992-8c98-7ed4ffab5250",
   "metadata": {},
   "outputs": [],
   "source": []
  },
  {
   "cell_type": "code",
   "execution_count": null,
   "id": "809d7681-e290-4a0c-a1c9-ee3e90ca7eaf",
   "metadata": {},
   "outputs": [],
   "source": []
  }
 ],
 "metadata": {
  "kernelspec": {
   "display_name": "Python 3 (ipykernel)",
   "language": "python",
   "name": "python3"
  },
  "language_info": {
   "codemirror_mode": {
    "name": "ipython",
    "version": 3
   },
   "file_extension": ".py",
   "mimetype": "text/x-python",
   "name": "python",
   "nbconvert_exporter": "python",
   "pygments_lexer": "ipython3",
   "version": "3.13.2"
  }
 },
 "nbformat": 4,
 "nbformat_minor": 5
}
